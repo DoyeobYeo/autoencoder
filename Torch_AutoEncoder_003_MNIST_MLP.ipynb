{
  "nbformat": 4,
  "nbformat_minor": 0,
  "metadata": {
    "colab": {
      "name": "Torch_AutoEncoder_003_MNIST_MLP.ipynb",
      "provenance": [],
      "collapsed_sections": []
    },
    "kernelspec": {
      "name": "python3",
      "display_name": "Python 3"
    },
    "language_info": {
      "name": "python"
    },
    "accelerator": "GPU"
  },
  "cells": [
    {
      "cell_type": "markdown",
      "source": [
        "# PyTorch를 이용한 AutoEncoder 구현하기\n",
        "## MLP (Multi-Layer Perceptron) 구조 vs CNN (Convolutional Neural Network) 구조"
      ],
      "metadata": {
        "id": "vA0Qi6dWGDGU"
      }
    },
    {
      "cell_type": "code",
      "execution_count": 1,
      "metadata": {
        "id": "gK9oZheQYemW"
      },
      "outputs": [],
      "source": [
        "import numpy as np\n",
        "import torch\n",
        "import torch.nn as nn\n",
        "import torch.optim as optim\n",
        "import torch.nn.init as init\n",
        "import torchvision.datasets as dset\n",
        "import torchvision.transforms as transforms\n",
        "from torch.utils.data import DataLoader\n",
        "import matplotlib.pyplot as plt\n",
        "\n",
        "from tqdm import tqdm"
      ]
    },
    {
      "cell_type": "markdown",
      "source": [
        "## 하이퍼파라미터 설정하기"
      ],
      "metadata": {
        "id": "smYd2MXtGhxm"
      }
    },
    {
      "cell_type": "code",
      "source": [
        "batch_size = 256\n",
        "learning_rate = 0.0002\n",
        "num_epoch = 5"
      ],
      "metadata": {
        "id": "s1gcyMrpYvpc"
      },
      "execution_count": 2,
      "outputs": []
    },
    {
      "cell_type": "markdown",
      "source": [
        "## torchvision.datasets을 이용하여 MNIST 데이터셋 로드하기"
      ],
      "metadata": {
        "id": "mldwxf3IGl74"
      }
    },
    {
      "cell_type": "code",
      "source": [
        "mnist_train = dset.MNIST(\n",
        "    root=\"./data\", \n",
        "    train=True, \n",
        "    transform=transforms.ToTensor(), \n",
        "    target_transform=None, \n",
        "    download=True\n",
        ")\n",
        "mnist_test = dset.MNIST(\n",
        "    root=\"./data\", \n",
        "    train=False, \n",
        "    transform=transforms.ToTensor(), \n",
        "    target_transform=None, \n",
        "    download=True\n",
        ")"
      ],
      "metadata": {
        "id": "JuZ5AZSaYxJY"
      },
      "execution_count": 3,
      "outputs": []
    },
    {
      "cell_type": "markdown",
      "source": [
        "## torch.utils.data.DataLoader를 이용하여 PyTorch 데이터로더 생성하기"
      ],
      "metadata": {
        "id": "V-hqG-bdGvo0"
      }
    },
    {
      "cell_type": "code",
      "source": [
        "train_loader = torch.utils.data.DataLoader(\n",
        "    dataset=mnist_train,\n",
        "    batch_size=batch_size, \n",
        "    shuffle=True,\n",
        "    num_workers=2,\n",
        "    drop_last=True\n",
        ")\n",
        "test_loader = torch.utils.data.DataLoader(\n",
        "    dataset=mnist_test,\n",
        "    batch_size=batch_size, \n",
        "    shuffle=False,\n",
        "    num_workers=2,\n",
        "    drop_last=True\n",
        ")"
      ],
      "metadata": {
        "id": "1Rg_UzJdZQq0"
      },
      "execution_count": 4,
      "outputs": []
    },
    {
      "cell_type": "markdown",
      "source": [
        "## MLP 기반의 오토인코더 구조 생성하기"
      ],
      "metadata": {
        "id": "8JKJorzVG6m0"
      }
    },
    {
      "cell_type": "code",
      "source": [
        "class Autoencoder(nn.Module):\n",
        "    def __init__(self):\n",
        "        super(Autoencoder,self).__init__()\n",
        "        self.encoder = nn.Sequential(\n",
        "            nn.Linear(28*28, 28*28),\n",
        "            nn.ReLU(),\n",
        "            nn.BatchNorm1d(28*28),\n",
        "\n",
        "            nn.Linear(28*28, 14*14),\n",
        "            nn.ReLU(),\n",
        "            nn.BatchNorm1d(14*14),\n",
        "\n",
        "            nn.Linear(14*14, 14*14),\n",
        "            nn.ReLU(),\n",
        "            nn.BatchNorm1d(14*14),\n",
        "\n",
        "            nn.Linear(14*14, 7*7),\n",
        "            nn.ReLU(),\n",
        "            nn.BatchNorm1d(7*7),\n",
        "        )\n",
        "        self.decoder = nn.Sequential(\n",
        "            nn.Linear(7*7, 14*14),\n",
        "            nn.ReLU(),\n",
        "            nn.BatchNorm1d(14*14),\n",
        "\n",
        "            nn.Linear(14*14, 14*14),\n",
        "            nn.ReLU(),\n",
        "            nn.BatchNorm1d(14*14),\n",
        "\n",
        "            nn.Linear(14*14, 28*28),\n",
        "            nn.ReLU(),\n",
        "            nn.BatchNorm1d(28*28),\n",
        "\n",
        "            nn.Linear(28*28, 28*28),\n",
        "            nn.ReLU()\n",
        "        )\n",
        "                \n",
        "    def forward(self,x):\n",
        "        x = x.view(batch_size,-1)\n",
        "        encoded = self.encoder(x)\n",
        "        out = self.decoder(encoded).view(batch_size,1,28,28)\n",
        "        return out"
      ],
      "metadata": {
        "id": "RhC6JeRqZuqs"
      },
      "execution_count": 5,
      "outputs": []
    },
    {
      "cell_type": "markdown",
      "source": [
        "## 원하는 Device (ex: GPU)에 모델 올리고 학습을 위한 준비하기"
      ],
      "metadata": {
        "id": "jQ9V-TwgHCk0"
      }
    },
    {
      "cell_type": "code",
      "source": [
        "device = torch.device(\"cuda:0\" if torch.cuda.is_available() else \"cpu\")\n",
        "print(device)\n",
        "\n",
        "model = Autoencoder().to(device)\n",
        "loss_func = nn.MSELoss()\n",
        "optimizer = torch.optim.Adam(model.parameters(), lr=learning_rate)\n"
      ],
      "metadata": {
        "colab": {
          "base_uri": "https://localhost:8080/"
        },
        "id": "tK3Ll-a2ZuoG",
        "outputId": "8976c53d-9979-436b-a2b1-19aca08f8a15"
      },
      "execution_count": 6,
      "outputs": [
        {
          "output_type": "stream",
          "name": "stdout",
          "text": [
            "cuda:0\n"
          ]
        }
      ]
    },
    {
      "cell_type": "markdown",
      "source": [
        "## 학습하기 (tqdm을 이용하여 학습 진행상황 모니터링 하기)"
      ],
      "metadata": {
        "id": "JBw4IKz9HK7I"
      }
    },
    {
      "cell_type": "code",
      "source": [
        "loss_arr =[]\n",
        "for i in range(num_epoch):\n",
        "    for image,label in tqdm(train_loader, desc=\"Epoch: \"+str(i+1)):\n",
        "        x = image.to(device)\n",
        "        \n",
        "        optimizer.zero_grad()\n",
        "        output = model.forward(x)\n",
        "        loss = loss_func(output,x)\n",
        "        loss.backward()\n",
        "        optimizer.step()\n",
        "       \n"
      ],
      "metadata": {
        "colab": {
          "base_uri": "https://localhost:8080/"
        },
        "id": "X-0AuR2xZumB",
        "outputId": "373e1d83-a472-40e4-c281-3baf27cf1a1f"
      },
      "execution_count": 7,
      "outputs": [
        {
          "output_type": "stream",
          "name": "stderr",
          "text": [
            "Epoch: 1: 100%|██████████| 234/234 [00:13<00:00, 16.77it/s]\n",
            "Epoch: 2: 100%|██████████| 234/234 [00:09<00:00, 24.67it/s]\n",
            "Epoch: 3: 100%|██████████| 234/234 [00:08<00:00, 28.37it/s]\n",
            "Epoch: 4: 100%|██████████| 234/234 [00:08<00:00, 28.09it/s]\n",
            "Epoch: 5: 100%|██████████| 234/234 [00:08<00:00, 28.16it/s]\n"
          ]
        }
      ]
    },
    {
      "cell_type": "markdown",
      "source": [
        "## 학습결과 모니터링하기 (학습 데이터셋을 이용)\n",
        "\n"
      ],
      "metadata": {
        "id": "KIhqrW2WHUKo"
      }
    },
    {
      "cell_type": "code",
      "source": [
        "out_img = torch.squeeze(output.cpu().data)\n",
        "print(out_img.size())\n",
        "\n",
        "for i in range(3):\n",
        "    plt.subplot(1,2,1)\n",
        "    plt.imshow(torch.squeeze(image[i]).numpy(),cmap='gray')\n",
        "    plt.subplot(1,2,2)\n",
        "    plt.imshow(out_img[i].numpy(),cmap='gray')\n",
        "    plt.show()"
      ],
      "metadata": {
        "colab": {
          "base_uri": "https://localhost:8080/",
          "height": 586
        },
        "id": "3671ZNXQZujJ",
        "outputId": "1bb029ea-83ff-4f2d-a2b0-ef3d2b6ffa10"
      },
      "execution_count": 8,
      "outputs": [
        {
          "output_type": "stream",
          "name": "stdout",
          "text": [
            "torch.Size([256, 28, 28])\n"
          ]
        },
        {
          "output_type": "display_data",
          "data": {
            "image/png": "[encoded data removed]",
            "text/plain": [
              "<Figure size 432x288 with 2 Axes>"
            ]
          },
          "metadata": {
            "needs_background": "light"
          }
        },
        {
          "output_type": "display_data",
          "data": {
            "image/png": "[encoded data removed]",
            "text/plain": [
              "<Figure size 432x288 with 2 Axes>"
            ]
          },
          "metadata": {
            "needs_background": "light"
          }
        },
        {
          "output_type": "display_data",
          "data": {
            "image/png": "[encoded data removed]",
            "text/plain": [
              "<Figure size 432x288 with 2 Axes>"
            ]
          },
          "metadata": {
            "needs_background": "light"
          }
        }
      ]
    },
    {
      "cell_type": "markdown",
      "source": [
        "## 학습결과 모니터링하기 (테스트 데이터셋을 이용)"
      ],
      "metadata": {
        "id": "pLRx2DufHmJ-"
      }
    },
    {
      "cell_type": "code",
      "source": [
        "with torch.no_grad():\n",
        "  for i in range(1):\n",
        "      for j,[image,label] in enumerate(test_loader):\n",
        "          x = image.to(device)\n",
        "\n",
        "          optimizer.zero_grad()\n",
        "          output = model.forward(x)\n",
        "\n",
        "      if j % 1000 == 0:\n",
        "          print(loss)        "
      ],
      "metadata": {
        "id": "XXrlk46JZug4"
      },
      "execution_count": 9,
      "outputs": []
    },
    {
      "cell_type": "code",
      "source": [
        "out_img = torch.squeeze(output.cpu().data)\n",
        "print(out_img.size())\n",
        "\n",
        "for i in range(2):\n",
        "    plt.subplot(1,2,1)\n",
        "    plt.imshow(torch.squeeze(image[i]).numpy(),cmap='gray')\n",
        "    plt.subplot(1,2,2)\n",
        "    plt.imshow(out_img[i].numpy(),cmap='gray')\n",
        "    plt.show()"
      ],
      "metadata": {
        "colab": {
          "base_uri": "https://localhost:8080/",
          "height": 402
        },
        "id": "W2MQHQfvZucP",
        "outputId": "014cf9e1-2849-411e-fdf6-2fa79f29686d"
      },
      "execution_count": 10,
      "outputs": [
        {
          "output_type": "stream",
          "name": "stdout",
          "text": [
            "torch.Size([256, 28, 28])\n"
          ]
        },
        {
          "output_type": "display_data",
          "data": {
            "image/png": "[encoded data removed]",
            "text/plain": [
              "<Figure size 432x288 with 2 Axes>"
            ]
          },
          "metadata": {
            "needs_background": "light"
          }
        },
        {
          "output_type": "display_data",
          "data": {
            "image/png": "[encoded data removed]",
            "text/plain": [
              "<Figure size 432x288 with 2 Axes>"
            ]
          },
          "metadata": {
            "needs_background": "light"
          }
        }
      ]
    },
    {
      "cell_type": "code",
      "source": [
        ""
      ],
      "metadata": {
        "id": "7C8UBry2ZuZ0"
      },
      "execution_count": 10,
      "outputs": []
    },
    {
      "cell_type": "code",
      "source": [
        ""
      ],
      "metadata": {
        "id": "E24sk-cNZuXn"
      },
      "execution_count": 10,
      "outputs": []
    },
    {
      "cell_type": "code",
      "source": [
        ""
      ],
      "metadata": {
        "id": "J3tCJWOWZuVM"
      },
      "execution_count": 10,
      "outputs": []
    },
    {
      "cell_type": "code",
      "source": [
        ""
      ],
      "metadata": {
        "id": "bTof1PRsZuSV"
      },
      "execution_count": 10,
      "outputs": []
    },
    {
      "cell_type": "code",
      "source": [
        ""
      ],
      "metadata": {
        "id": "HsDrTjqMZuO5"
      },
      "execution_count": 10,
      "outputs": []
    }
  ]
}