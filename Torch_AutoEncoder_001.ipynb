{
  "nbformat": 4,
  "nbformat_minor": 0,
  "metadata": {
    "colab": {
      "name": "Torch_AutoEncoder_001.ipynb",
      "provenance": [],
      "collapsed_sections": []
    },
    "kernelspec": {
      "name": "python3",
      "display_name": "Python 3"
    },
    "language_info": {
      "name": "python"
    },
    "accelerator": "GPU"
  },
  "cells": [
    {
      "cell_type": "markdown",
      "source": [
        "# PyTorch를 이용한 AutoEncoder 구현하기\n",
        "\n",
        "\n",
        "> ## 1. PyTorch를 이용하여 FashionMNIST 데이터셋 로드하기\n",
        "> ## 2. PyTorch를 이용한 모델 구성하기\n",
        "> ## 3. PyTorch를 이용한 학습 Loop 구성하기\n",
        "> ## 4. PyTorch를 이용하여 Inference 하기"
      ],
      "metadata": {
        "id": "D3Uxnmw3uUOR"
      }
    },
    {
      "cell_type": "code",
      "source": [
        "import torch\n",
        "import torchvision\n",
        "import torch.nn.functional as F\n",
        "from torch import nn, optim\n",
        "from torchvision import transforms, datasets\n",
        "\n",
        "import matplotlib.pyplot as plt # Matplotlib: 이미지 출력을 돕는 모듈\n",
        "from matplotlib import cm # Data 포인트에 색상입히는 용도\n",
        "import numpy as np # Numpy 행렬 변환\n"
      ],
      "metadata": {
        "id": "wHDsqxO_ubsX"
      },
      "execution_count": null,
      "outputs": []
    },
    {
      "cell_type": "code",
      "source": [
        "# 하이퍼파라미터\n",
        "EPOCH = 50\n",
        "BATCH_SIZE = 64\n",
        "USE_CUDA = torch.cuda.is_available()\n",
        "DEVICE = torch.device(\"cuda\" if USE_CUDA else \"cpu\")\n",
        "print(\"Using Device:\", DEVICE)"
      ],
      "metadata": {
        "colab": {
          "base_uri": "https://localhost:8080/"
        },
        "id": "KFe_mgc9RIjK",
        "outputId": "7d52e68b-5cd2-497e-fc16-386528532583"
      },
      "execution_count": null,
      "outputs": [
        {
          "output_type": "stream",
          "name": "stdout",
          "text": [
            "Using Device: cuda\n"
          ]
        }
      ]
    },
    {
      "cell_type": "code",
      "source": [
        "CLASSES = {\n",
        "    0: 'T-shirt/top',\n",
        "    1: 'Trouser',   # 바지 정장\n",
        "    2: 'Pullover',  # 스웨터\n",
        "    3: 'Dress',\n",
        "    4: 'Coat',\n",
        "    5: 'Sandal',\n",
        "    6: 'Shirt',\n",
        "    7: 'Sneaker',\n",
        "    8: 'Bag',\n",
        "    9: 'Ankle boot'\n",
        "}"
      ],
      "metadata": {
        "id": "cPHHYcZxDc7i"
      },
      "execution_count": null,
      "outputs": []
    },
    {
      "cell_type": "markdown",
      "source": [
        "# 1. PyTorch를 이용하여 FashionMNIST 데이터셋 로드하기"
      ],
      "metadata": {
        "id": "7pKJaoypCD2X"
      }
    },
    {
      "cell_type": "code",
      "source": [
        "# Fashion MNIST 데이터셋 다운로드 및 데이터로더 선언\n",
        "trainset = datasets.FashionMNIST(\n",
        "    root      = './.data/', \n",
        "    train     = True,\n",
        "    download  = True,\n",
        "    transform = transforms.ToTensor()\n",
        ")\n",
        "train_loader = torch.utils.data.DataLoader(\n",
        "    dataset     = trainset,\n",
        "    batch_size  = BATCH_SIZE,\n",
        "    shuffle     = True,\n",
        "    num_workers = 2\n",
        ")"
      ],
      "metadata": {
        "id": "Zcpk1KfDRONY"
      },
      "execution_count": null,
      "outputs": []
    },
    {
      "cell_type": "markdown",
      "source": [
        "# 2. PyTorch를 이용한 모델 구성하기"
      ],
      "metadata": {
        "id": "HW49JqN-DOoi"
      }
    },
    {
      "cell_type": "code",
      "source": [
        "class Autoencoder(nn.Module):\n",
        "    def __init__(self):\n",
        "        super(Autoencoder, self).__init__()\n",
        "\n",
        "        self.encoder = nn.Sequential(\n",
        "            nn.Linear(28*28, 128),\n",
        "            nn.ReLU(),\n",
        "            nn.Linear(128, 64),\n",
        "            nn.ReLU(),\n",
        "            nn.Linear(64, 12),\n",
        "            nn.ReLU(),\n",
        "            nn.Linear(12, 2),   # 입력의 특징을 2차원으로 압축합니다\n",
        "        )\n",
        "        self.decoder = nn.Sequential(\n",
        "            nn.Linear(2, 12),\n",
        "            nn.ReLU(),\n",
        "            nn.Linear(12, 64),\n",
        "            nn.ReLU(),\n",
        "            nn.Linear(64, 128),\n",
        "            nn.ReLU(),\n",
        "            nn.Linear(128, 28*28),\n",
        "            nn.Sigmoid(),       # 픽셀당 0과 1 사이로 값을 출력합니다\n",
        "        )\n",
        "\n",
        "    def forward(self, x):\n",
        "        encoded = self.encoder(x)\n",
        "        decoded = self.decoder(encoded)\n",
        "        return encoded, decoded"
      ],
      "metadata": {
        "id": "-8zzh2PgRU-a"
      },
      "execution_count": null,
      "outputs": []
    },
    {
      "cell_type": "code",
      "source": [
        "# PyTorch에서는 tensor나 model의 weight를 계산할 장치(device)를 명시해줘야 함\n",
        "autoencoder = Autoencoder().to(DEVICE)\n",
        "\n",
        "#최적화 함수 : Adam() --> SGD의 변형, 학습중인 기울기를 참고하여 학습 속도를 자동으로 변화\n",
        "optimizer = torch.optim.Adam(autoencoder.parameters(), lr=0.005) \n",
        "\n",
        "# MSE(Mean Squared Error) : 평균 제곱 오차\n",
        "criterion = nn.MSELoss()\n"
      ],
      "metadata": {
        "id": "4H9Ccr4fRaNf"
      },
      "execution_count": null,
      "outputs": []
    },
    {
      "cell_type": "code",
      "source": [
        "# 원본 이미지를 시각화 하기 (첫번째 열)\n",
        "\n",
        "view_data = trainset.data[:5].view(-1, 28*28)\n",
        "view_label = trainset.targets[:5].numpy()\n",
        "\n",
        "view_data = view_data.type(torch.FloatTensor)/255.\n",
        "print(view_label)\n"
      ],
      "metadata": {
        "colab": {
          "base_uri": "https://localhost:8080/"
        },
        "id": "yiaa2bVpRdPY",
        "outputId": "79130e12-e59f-4208-fe06-fcd5e2f5bfb0"
      },
      "execution_count": null,
      "outputs": [
        {
          "output_type": "stream",
          "name": "stdout",
          "text": [
            "[9 0 0 3 0]\n"
          ]
        }
      ]
    },
    {
      "cell_type": "markdown",
      "source": [
        "# 3. PyTorch를 이용한 학습 Loop 구성하기"
      ],
      "metadata": {
        "id": "i5HkUpN0EPqj"
      }
    },
    {
      "cell_type": "code",
      "source": [
        "def train_one_epoch(autoencoder, train_loader):\n",
        "    autoencoder.train()\n",
        "\n",
        "    for step, (x, label) in enumerate(train_loader):\n",
        "        x = x.view(-1, 28*28).to(DEVICE)\n",
        "        y = x.view(-1, 28*28).to(DEVICE)\n",
        "        label = label.to(DEVICE)\n",
        "        encoded, decoded = autoencoder(x)\n",
        "        \n",
        "        # Zero your gradients for every batch!\n",
        "        optimizer.zero_grad()\n",
        "\n",
        "        # Compute the loss and its gradients\n",
        "        loss = criterion(decoded, y)\n",
        "        loss.backward()\n",
        "\n",
        "        # Adjust learning weights\n",
        "        optimizer.step()"
      ],
      "metadata": {
        "id": "mNCsoGqZRfFo"
      },
      "execution_count": null,
      "outputs": []
    },
    {
      "cell_type": "code",
      "source": [
        "for epoch in range(1, EPOCH+1):\n",
        "    train_one_epoch(autoencoder, train_loader)\n",
        "\n",
        "    # 디코더에서 나온 이미지를 시각화 하기 (두번째 열)\n",
        "    test_x = view_data.to(DEVICE)\n",
        "    _, decoded_data = autoencoder(test_x)\n",
        "\n",
        "    # 원본과 디코딩 결과 비교해보기\n",
        "    f, a = plt.subplots(2, 5, figsize=(10, 4))\n",
        "    print(\"[Epoch {}]\".format(epoch))\n",
        "    for i in range(5):\n",
        "        img = np.reshape(view_data.data.numpy()[i],(28, 28))\n",
        "        a[0][i].imshow(img, cmap='gray')\n",
        "        a[0][i].set_xticks(()); a[0][i].set_yticks(())\n",
        "        a[0][i].set_title(CLASSES[view_label[i]])\n",
        "\n",
        "    for i in range(5):\n",
        "        img = np.reshape(decoded_data.to(\"cpu\").data.numpy()[i], (28, 28))\n",
        "        a[1][i].imshow(img, cmap='gray')\n",
        "        a[1][i].set_xticks(()); a[1][i].set_yticks(())\n",
        "    plt.show()\n"
      ],
      "metadata": {
        "id": "UOB7ZErxRhgu"
      },
      "execution_count": null,
      "outputs": []
    },
    {
      "cell_type": "markdown",
      "source": [
        "# 4. PyTorch를 이용하여 Inference 하기"
      ],
      "metadata": {
        "id": "hxB1xFXOEZQT"
      }
    },
    {
      "cell_type": "code",
      "source": [
        "# 잠재변수를 플롯으로 시각화\n",
        "autoencoder.eval()\n",
        "\n",
        "view_data = trainset.data[:200].view(-1, 28*28)\n",
        "view_data = view_data.type(torch.FloatTensor)/255.\n",
        "test_x = view_data.to(DEVICE)\n",
        "encoded_data, _ = autoencoder(test_x)\n",
        "encoded_data = encoded_data.to(\"cpu\")"
      ],
      "metadata": {
        "id": "pTAi1VltRktg"
      },
      "execution_count": null,
      "outputs": []
    },
    {
      "cell_type": "code",
      "source": [
        "%matplotlib inline\n",
        "import matplotlib.pyplot as plt\n",
        "\n",
        "\n",
        "fig = plt.figure(figsize=(10,8))\n",
        "\n",
        "X = encoded_data.data[:, 0].numpy()\n",
        "Y = encoded_data.data[:, 1].numpy()\n",
        "\n",
        "labels = trainset.targets[:200].numpy()\n",
        "\n",
        "for x, y, s in zip(X, Y, labels):\n",
        "    name = CLASSES[s]\n",
        "    color = cm.rainbow(int(255*s/9))\n",
        "    plt.text(x, y, name, backgroundcolor=color)\n",
        "\n",
        "plt.xlim(X.min(), X.max())\n",
        "plt.ylim(Y.min(), Y.max())\n",
        "plt.show()"
      ],
      "metadata": {
        "colab": {
          "base_uri": "https://localhost:8080/",
          "height": 491
        },
        "id": "HTfsTCiTYWTi",
        "outputId": "f0030bc3-a0ea-4a8d-9398-39a6a5d2b034"
      },
      "execution_count": null,
      "outputs": [
        {
          "output_type": "display_data",
          "data": {
            "image/png": "[encoded data removed]",
            "text/plain": [
              "<Figure size 720x576 with 1 Axes>"
            ]
          },
          "metadata": {
            "needs_background": "light"
          }
        }
      ]
    },
    {
      "cell_type": "code",
      "source": [
        ""
      ],
      "metadata": {
        "id": "J4_dlVy6Yd_o"
      },
      "execution_count": null,
      "outputs": []
    }
  ]
}