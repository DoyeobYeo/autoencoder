{
  "nbformat": 4,
  "nbformat_minor": 0,
  "metadata": {
    "colab": {
      "name": "Torch_AutoEncoder_004_MNIST_CNN.ipynb",
      "provenance": [],
      "collapsed_sections": []
    },
    "kernelspec": {
      "name": "python3",
      "display_name": "Python 3"
    },
    "language_info": {
      "name": "python"
    },
    "accelerator": "GPU"
  },
  "cells": [
    {
      "cell_type": "markdown",
      "source": [
        "# PyTorch를 이용한 AutoEncoder 구현하기\n",
        "## MLP (Multi-Layer Perceptron) 구조 vs CNN (Convolutional Neural Network) 구조"
      ],
      "metadata": {
        "id": "lZPXYy1fH3ki"
      }
    },
    {
      "cell_type": "code",
      "execution_count": 1,
      "metadata": {
        "id": "Jjk_ceucZohe"
      },
      "outputs": [],
      "source": [
        "import numpy as np\n",
        "import torch\n",
        "import torch.nn as nn\n",
        "import torch.optim as optim\n",
        "import torch.nn.init as init\n",
        "import torchvision.datasets as dset\n",
        "import torchvision.transforms as transforms\n",
        "from torch.utils.data import DataLoader\n",
        "import matplotlib.pyplot as plt\n",
        "\n",
        "from tqdm import tqdm"
      ]
    },
    {
      "cell_type": "markdown",
      "source": [
        "# 하이퍼파라미터 설정하기"
      ],
      "metadata": {
        "id": "Aeygh8fDH6Bt"
      }
    },
    {
      "cell_type": "code",
      "source": [
        "batch_size = 256\n",
        "learning_rate = 0.0002\n",
        "num_epoch = 5"
      ],
      "metadata": {
        "id": "ltk3gxg8aiAA"
      },
      "execution_count": 2,
      "outputs": []
    },
    {
      "cell_type": "markdown",
      "source": [
        "## torchvision.datasets을 이용하여 MNIST 데이터셋 로드하기"
      ],
      "metadata": {
        "id": "D-j_NQgxH9iB"
      }
    },
    {
      "cell_type": "code",
      "source": [
        "mnist_train = dset.MNIST(\n",
        "    root=\"./data\", \n",
        "    train=True, \n",
        "    transform=transforms.ToTensor(), \n",
        "    target_transform=None, \n",
        "    download=True\n",
        ")\n",
        "mnist_test = dset.MNIST(\n",
        "    root=\"./data\", \n",
        "    train=False, \n",
        "    transform=transforms.ToTensor(), \n",
        "    target_transform=None, \n",
        "    download=True\n",
        ")"
      ],
      "metadata": {
        "id": "5O8zHZKsah-R"
      },
      "execution_count": 3,
      "outputs": []
    },
    {
      "cell_type": "markdown",
      "source": [
        "## torch.utils.data.DataLoader를 이용하여 PyTorch 데이터로더 생성하기"
      ],
      "metadata": {
        "id": "ISZssLwoIA3K"
      }
    },
    {
      "cell_type": "code",
      "source": [
        "train_loader = torch.utils.data.DataLoader(\n",
        "    dataset=mnist_train,\n",
        "    batch_size=batch_size, \n",
        "    shuffle=True,\n",
        "    num_workers=2,\n",
        "    drop_last=True\n",
        ")\n",
        "test_loader = torch.utils.data.DataLoader(\n",
        "    dataset=mnist_test,\n",
        "    batch_size=batch_size, \n",
        "    shuffle=False,\n",
        "    num_workers=2,\n",
        "    drop_last=True\n",
        ")"
      ],
      "metadata": {
        "id": "x3tyKrBsah3f"
      },
      "execution_count": 4,
      "outputs": []
    },
    {
      "cell_type": "markdown",
      "source": [
        "## CNN 기반의 오토인코더 구조 생성하기"
      ],
      "metadata": {
        "id": "mWwUSs-1IFIq"
      }
    },
    {
      "cell_type": "code",
      "source": [
        "class Encoder(nn.Module):\n",
        "    def __init__(self):\n",
        "        # input: batch x 3 x 28 x 28\n",
        "        super(Encoder,self).__init__()\n",
        "        self.layer1 = nn.Sequential(\n",
        "                        # batch x 16 x 28 x 28\n",
        "                        nn.Conv2d(\n",
        "                            in_channels=1,\n",
        "                            out_channels=16,\n",
        "                            kernel_size=3,\n",
        "                            padding=1\n",
        "                        ),\n",
        "                        nn.ReLU(),\n",
        "                        nn.BatchNorm2d(16),\n",
        "\n",
        "                        # batch x 32 x 28 x 28\n",
        "                        nn.Conv2d(\n",
        "                            in_channels=16,\n",
        "                            out_channels=32,\n",
        "                            kernel_size=3,\n",
        "                            padding=1\n",
        "                        ),\n",
        "                        nn.ReLU(),\n",
        "                        nn.BatchNorm2d(32),\n",
        "\n",
        "                        # batch x 64 x 14 x 14\n",
        "                        nn.Conv2d(\n",
        "                            in_channels=32,\n",
        "                            out_channels=64,\n",
        "                            kernel_size=3,\n",
        "                            padding=1\n",
        "                        ),\n",
        "                        nn.ReLU(),\n",
        "                        nn.BatchNorm2d(64),\n",
        "                        nn.MaxPool2d(2,2)            \n",
        "        )\n",
        "        self.layer2 = nn.Sequential(\n",
        "                        # batch x 128 x 7 x 7\n",
        "                        nn.Conv2d(\n",
        "                            in_channels=64,\n",
        "                            out_channels=128,\n",
        "                            kernel_size=3,\n",
        "                            padding=1\n",
        "                        ),\n",
        "                        nn.ReLU(),\n",
        "                        nn.BatchNorm2d(128),\n",
        "                        nn.MaxPool2d(2,2),\n",
        "\n",
        "                        # batch x 256 x 7 x 7\n",
        "                        nn.Conv2d(\n",
        "                            in_channels=128,\n",
        "                            out_channels=256,\n",
        "                            kernel_size=3,\n",
        "                            padding=1\n",
        "                        ),      \n",
        "                        nn.ReLU()\n",
        "        )\n",
        "        \n",
        "                \n",
        "    def forward(self,x):\n",
        "        out = self.layer1(x)\n",
        "        out = self.layer2(out)\n",
        "        out = out.view(batch_size, -1)\n",
        "        return out"
      ],
      "metadata": {
        "id": "FwxLJc8Kah1b"
      },
      "execution_count": 5,
      "outputs": []
    },
    {
      "cell_type": "code",
      "source": [
        "class Decoder(nn.Module):\n",
        "    def __init__(self):\n",
        "        super(Decoder,self).__init__()\n",
        "        # input: batch x 256 x 7 x 7\n",
        "        self.layer1 = nn.Sequential(\n",
        "                        # batch x 128 x 14 x 14\n",
        "                        nn.ConvTranspose2d(\n",
        "                            in_channels=256,\n",
        "                            out_channels=128,\n",
        "                            kernel_size=3,\n",
        "                            stride=2,\n",
        "                            padding=1,\n",
        "                            output_padding=1\n",
        "                        ),\n",
        "                        nn.ReLU(),\n",
        "                        nn.BatchNorm2d(128),\n",
        "\n",
        "                        # batch x 64 x 14 x 14\n",
        "                        nn.ConvTranspose2d(\n",
        "                            in_channels=128,\n",
        "                            out_channels=64,\n",
        "                            kernel_size=3,\n",
        "                            stride=1,\n",
        "                            padding=1\n",
        "                        ),\n",
        "                        nn.ReLU(),\n",
        "                        nn.BatchNorm2d(64)\n",
        "        )\n",
        "        self.layer2 = nn.Sequential(\n",
        "                        # batch x 16 x 14 x 14\n",
        "                        nn.ConvTranspose2d(\n",
        "                            in_channels=64,\n",
        "                            out_channels=16,\n",
        "                            kernel_size=3,\n",
        "                            stride=1,\n",
        "                            padding=1\n",
        "                        ),\n",
        "                        nn.ReLU(),\n",
        "                        nn.BatchNorm2d(16),\n",
        "\n",
        "                        # batch x 1 x 28 x 28\n",
        "                        nn.ConvTranspose2d(\n",
        "                            in_channels=16,\n",
        "                            out_channels=1,\n",
        "                            kernel_size=3,\n",
        "                            stride=2,\n",
        "                            padding=1,\n",
        "                            output_padding=1\n",
        "                        ),         \n",
        "                        nn.ReLU(),\n",
        "                        nn.BatchNorm2d(1),\n",
        "\n",
        "                        # batch x 1 x 28 x 28 (for smoothing)\n",
        "                        nn.Conv2d(\n",
        "                            in_channels=1,\n",
        "                            out_channels=1,\n",
        "                            kernel_size=3,\n",
        "                            padding=1\n",
        "                        ),\n",
        "                        nn.ReLU()\n",
        "        )\n",
        "        \n",
        "    def forward(self,x):\n",
        "        out = x.view(batch_size,256,7,7)\n",
        "        out = self.layer1(out)\n",
        "        out = self.layer2(out)\n",
        "        return out"
      ],
      "metadata": {
        "id": "mtag_nfiahyr"
      },
      "execution_count": 6,
      "outputs": []
    },
    {
      "cell_type": "markdown",
      "source": [
        "## 원하는 Device (ex: GPU)에 모델 올리고 학습을 위한 준비하기"
      ],
      "metadata": {
        "id": "HnzdJP85ILdq"
      }
    },
    {
      "cell_type": "code",
      "source": [
        "device = torch.device(\"cuda:0\" if torch.cuda.is_available() else \"cpu\")\n",
        "print(device)\n",
        "\n",
        "encoder = Encoder().to(device)\n",
        "decoder = Decoder().to(device)\n",
        "\n",
        "# 인코더 디코더의 파라미터를 동시에 학습시키기 위해 이를 묶는 방법입니다.\n",
        "parameters = list(encoder.parameters())+ list(decoder.parameters())\n",
        "\n",
        "loss_func = nn.MSELoss()\n",
        "optimizer = torch.optim.Adam(parameters, lr=learning_rate)"
      ],
      "metadata": {
        "colab": {
          "base_uri": "https://localhost:8080/"
        },
        "id": "4h9GR0mMaqzu",
        "outputId": "99c39b3c-afb2-4b57-e555-bd7eded99a5c"
      },
      "execution_count": 7,
      "outputs": [
        {
          "output_type": "stream",
          "name": "stdout",
          "text": [
            "cuda:0\n"
          ]
        }
      ]
    },
    {
      "cell_type": "markdown",
      "source": [
        "## 학습하기 (tqdm을 이용하여 학습 진행상황 모니터링 하기)"
      ],
      "metadata": {
        "id": "v2o-TvONIU72"
      }
    },
    {
      "cell_type": "code",
      "source": [
        "for i in range(num_epoch):\n",
        "    for image,label in tqdm(train_loader):\n",
        "        optimizer.zero_grad()\n",
        "        image = image.to(device)\n",
        "        \n",
        "        output = encoder(image)\n",
        "        output = decoder(output)\n",
        "        \n",
        "        loss = loss_func(output,image)\n",
        "        loss.backward()\n",
        "        optimizer.step()"
      ],
      "metadata": {
        "colab": {
          "base_uri": "https://localhost:8080/"
        },
        "id": "NrQ48KXAahwc",
        "outputId": "03023bf6-a727-4745-8faa-5486dc376fd3"
      },
      "execution_count": 8,
      "outputs": [
        {
          "output_type": "stream",
          "name": "stderr",
          "text": [
            "100%|██████████| 234/234 [00:29<00:00,  7.92it/s]\n",
            "100%|██████████| 234/234 [00:28<00:00,  8.08it/s]\n",
            "100%|██████████| 234/234 [00:29<00:00,  8.05it/s]\n",
            "100%|██████████| 234/234 [00:29<00:00,  8.03it/s]\n",
            "100%|██████████| 234/234 [00:29<00:00,  8.04it/s]\n"
          ]
        }
      ]
    },
    {
      "cell_type": "markdown",
      "source": [
        "## 학습결과 모니터링하기 (학습 데이터셋을 이용)\n"
      ],
      "metadata": {
        "id": "ltTbUty3IYbw"
      }
    },
    {
      "cell_type": "code",
      "source": [
        "out_img = torch.squeeze(output.cpu().data)\n",
        "print(out_img.size())\n",
        "\n",
        "for i in range(2):\n",
        "    plt.subplot(1,2,1)\n",
        "    plt.imshow(torch.squeeze(image[i]).cpu().numpy(),cmap='gray')\n",
        "    plt.subplot(1,2,2)\n",
        "    plt.imshow(out_img[i].numpy(),cmap='gray')\n",
        "    plt.show()"
      ],
      "metadata": {
        "colab": {
          "base_uri": "https://localhost:8080/",
          "height": 402
        },
        "id": "nvycIOMPaht0",
        "outputId": "2dca46f8-5c94-420b-d1b2-7bef49071a05"
      },
      "execution_count": 9,
      "outputs": [
        {
          "output_type": "stream",
          "name": "stdout",
          "text": [
            "torch.Size([256, 28, 28])\n"
          ]
        },
        {
          "output_type": "display_data",
          "data": {
            "image/png": "[encoded data removed]",
            "text/plain": [
              "<Figure size 432x288 with 2 Axes>"
            ]
          },
          "metadata": {
            "needs_background": "light"
          }
        },
        {
          "output_type": "display_data",
          "data": {
            "image/png": "[encoded data removed]",
            "text/plain": [
              "<Figure size 432x288 with 2 Axes>"
            ]
          },
          "metadata": {
            "needs_background": "light"
          }
        }
      ]
    },
    {
      "cell_type": "markdown",
      "source": [
        "## 학습결과 모니터링하기 (테스트 데이터셋을 이용)"
      ],
      "metadata": {
        "id": "xSEzLCH2bTzl"
      }
    },
    {
      "cell_type": "code",
      "source": [
        "with torch.no_grad():\n",
        "    for j,[image,label] in enumerate(test_loader):\n",
        "       \n",
        "        image = image.to(device)\n",
        "        output = encoder(image)\n",
        "        output = decoder(output)\n",
        "        \n",
        "    if j % 10 == 0:\n",
        "        print(loss)        "
      ],
      "metadata": {
        "id": "usJeSpxFahrl"
      },
      "execution_count": 10,
      "outputs": []
    },
    {
      "cell_type": "code",
      "source": [
        "out_img = torch.squeeze(output.cpu().data)\n",
        "print(out_img.size())\n",
        "\n",
        "for i in range(2):\n",
        "    plt.subplot(1,2,1)\n",
        "    plt.imshow(torch.squeeze(image[i]).cpu().numpy(),cmap='gray')\n",
        "    plt.subplot(1,2,2)\n",
        "    plt.imshow(out_img[i].numpy(),cmap='gray')\n",
        "    plt.show()"
      ],
      "metadata": {
        "colab": {
          "base_uri": "https://localhost:8080/",
          "height": 402
        },
        "id": "vd-wYscwahpB",
        "outputId": "33e96d7f-a29c-4cac-d2c9-114659e43d2c"
      },
      "execution_count": 11,
      "outputs": [
        {
          "output_type": "stream",
          "name": "stdout",
          "text": [
            "torch.Size([256, 28, 28])\n"
          ]
        },
        {
          "output_type": "display_data",
          "data": {
            "image/png": "[encoded data removed]",
            "text/plain": [
              "<Figure size 432x288 with 2 Axes>"
            ]
          },
          "metadata": {
            "needs_background": "light"
          }
        },
        {
          "output_type": "display_data",
          "data": {
            "image/png": "[encoded data removed]",
            "text/plain": [
              "<Figure size 432x288 with 2 Axes>"
            ]
          },
          "metadata": {
            "needs_background": "light"
          }
        }
      ]
    },
    {
      "cell_type": "code",
      "source": [
        ""
      ],
      "metadata": {
        "id": "pHFEFVW8ahmk"
      },
      "execution_count": 11,
      "outputs": []
    },
    {
      "cell_type": "code",
      "source": [
        ""
      ],
      "metadata": {
        "id": "D6lMomwUahkH"
      },
      "execution_count": 11,
      "outputs": []
    },
    {
      "cell_type": "code",
      "source": [
        ""
      ],
      "metadata": {
        "id": "cnBU2otPahh2"
      },
      "execution_count": 11,
      "outputs": []
    },
    {
      "cell_type": "code",
      "source": [
        ""
      ],
      "metadata": {
        "id": "uGn5qKE5ahfI"
      },
      "execution_count": 11,
      "outputs": []
    }
  ]
}